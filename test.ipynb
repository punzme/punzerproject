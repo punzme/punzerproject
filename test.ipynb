{
 "cells": [
  {
   "cell_type": "markdown",
   "id": "a9b86fc3-e4d5-4df0-a10b-96835422c0c3",
   "metadata": {},
   "source": [
    "INI ADALAH TEST CODE JUPYTER LAB"
   ]
  },
  {
   "cell_type": "code",
   "execution_count": null,
   "id": "67526cdc-de45-415a-9019-c22967a3b22d",
   "metadata": {},
   "outputs": [],
   "source": []
  }
 ],
 "metadata": {
  "kernelspec": {
   "display_name": "Python 3 (ipykernel)",
   "language": "python",
   "name": "python3"
  },
  "language_info": {
   "codemirror_mode": {
    "name": "ipython",
    "version": 3
   },
   "file_extension": ".py",
   "mimetype": "text/x-python",
   "name": "python",
   "nbconvert_exporter": "python",
   "pygments_lexer": "ipython3",
   "version": "3.11.1"
  }
 },
 "nbformat": 4,
 "nbformat_minor": 5
}
